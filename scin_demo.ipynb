{
  "nbformat": 4,
  "nbformat_minor": 0,
  "metadata": {
    "colab": {
      "provenance": [],
      "toc_visible": true
    },
    "kernelspec": {
      "name": "python3",
      "display_name": "Python 3"
    },
    "language_info": {
      "name": "python"
    }
  },
  "cells": [
    {
      "cell_type": "markdown",
      "source": [
        "<table class=\"tfo-notebook-buttons\" align=\"left\">\n",
        "  <td>\n",
        "    <a target=\"_blank\" href=\"https://colab.research.google.com/github/google-research-datasets/scin/blob/main/scin_demo.ipynb\"><img src=\"https://www.tensorflow.org/images/colab_logo_32px.png\" />Run in Google Colab</a>\n",
        "  </td>\n",
        "  <td>\n",
        "    <a target=\"_blank\" href=\"https://github.com/google-research-datasets/scin/\"><img src=\"https://www.tensorflow.org/images/GitHub-Mark-32px.png\" />View source on GitHub</a>\n",
        "  </td>\n",
        "</table>"
      ],
      "metadata": {
        "id": "ZLbd9d_W45WS"
      }
    },
    {
      "cell_type": "code",
      "source": [
        "# Copyright 2024 Google LLC\n",
        "#\n",
        "# Licensed under the Apache License, Version 2.0 (the \"License\");\n",
        "# you may not use this file except in compliance with the License.\n",
        "# You may obtain a copy of the License at\n",
        "#\n",
        "#     https://www.apache.org/licenses/LICENSE-2.0\n",
        "#\n",
        "# Unless required by applicable law or agreed to in writing, software\n",
        "# distributed under the License is distributed on an \"AS IS\" BASIS,\n",
        "# WITHOUT WARRANTIES OR CONDITIONS OF ANY KIND, either express or implied.\n",
        "# See the License for the specific language governing permissions and\n",
        "# limitations under the License."
      ],
      "metadata": {
        "id": "QwG4a9hAfSbB"
      },
      "execution_count": null,
      "outputs": []
    },
    {
      "cell_type": "markdown",
      "metadata": {
        "id": "yLYdRB_HCuqy"
      },
      "source": [
        "## SCIN dataset demo\n",
        "\n",
        "This colab demos how to load the SCIN dataset from the CSV files in Google Cloud Storage.\n"
      ]
    },
    {
      "cell_type": "markdown",
      "metadata": {
        "id": "BALFRUdPC2Zv"
      },
      "source": [
        "## Setup"
      ]
    },
    {
      "cell_type": "code",
      "execution_count": null,
      "metadata": {
        "id": "4aj1x2l7JFMT"
      },
      "outputs": [],
      "source": [
        "#@title Install the required packages\n",
        "\n",
        "!pip install matplotlib google-cloud-storage"
      ]
    },
    {
      "cell_type": "code",
      "execution_count": null,
      "metadata": {
        "id": "JoXzQ_iiC13S"
      },
      "outputs": [],
      "source": [
        "#@title Imports\n",
        "\n",
        "import collections\n",
        "import copy\n",
        "import hashlib\n",
        "import io\n",
        "import os\n",
        "import subprocess\n",
        "import textwrap\n",
        "import time\n",
        "\n",
        "from typing import List, Text\n",
        "\n",
        "from PIL import Image\n",
        "\n",
        "import numpy as np\n",
        "import pandas as pd\n",
        "import tabulate\n",
        "\n",
        "\n",
        "import tensorflow as tf\n",
        "\n",
        "import matplotlib.pyplot as plt\n"
      ]
    },
    {
      "cell_type": "markdown",
      "metadata": {
        "id": "a06xhERbI8UJ"
      },
      "source": [
        "### Authenticate\n",
        "\n",
        "\n",
        "The following cell is for Colab only. If running elsewhere, authenticate with the [gcloud CLI](https://cloud.google.com/sdk/gcloud/reference/auth/login)."
      ]
    },
    {
      "cell_type": "code",
      "execution_count": null,
      "metadata": {
        "id": "H6pUpJPdI7Y5"
      },
      "outputs": [],
      "source": [
        "from google.colab import auth\n",
        "\n",
        "# Authenticate user for access. There will be a popup asking you to sign in with your user and approve access.\n",
        "auth.authenticate_user()"
      ]
    },
    {
      "cell_type": "markdown",
      "source": [
        "### Configuration"
      ],
      "metadata": {
        "id": "bs3OnHe-0o8f"
      }
    },
    {
      "cell_type": "code",
      "execution_count": null,
      "metadata": {
        "id": "OxzYsc8NDpwa",
        "colab": {
          "base_uri": "https://localhost:8080/"
        },
        "outputId": "cdc7a1de-32bc-41e0-f6e4-d568e4786f11"
      },
      "outputs": [
        {
          "output_type": "stream",
          "name": "stdout",
          "text": [
            "GCS bucket name: dx-scin-public-data\n",
            "cases_csv: dataset/scin_cases.csv\n",
            "labels_csv: dataset/scin_labels.csv\n",
            "images dir: dataset/images/\n"
          ]
        }
      ],
      "source": [
        "#@title Global params\n",
        "\n",
        "class Globals:\n",
        "  # GCP project with GCS bucket of interest\n",
        "  gcp_project = 'dx-scin-public' #@param\n",
        "\n",
        "  # GCS bucket with data to read\n",
        "  gcs_bucket_name = 'dx-scin-public-data' #@param\n",
        "\n",
        "  # CSV of case metadata to read\n",
        "  cases_csv = 'dataset/scin_cases.csv' #@param\n",
        "\n",
        "  # CSV of label metadata to read\n",
        "  labels_csv = 'dataset/scin_labels.csv' #@param\n",
        "\n",
        "  # Images directory\n",
        "  gcs_images_dir = 'dataset/images/' #@param\n",
        "\n",
        "  ### Key column names\n",
        "  image_path_columns = ['image_1_path', 'image_2_path', 'image_3_path']\n",
        "  weighted_skin_condition_label = \"weighted_skin_condition_label\"\n",
        "  skin_condition_label = \"dermatologist_skin_condition_on_label_name\"\n",
        "\n",
        "  ###### Formed during execution:\n",
        "\n",
        "  # Client for querying GCS\n",
        "  gcs_storage_client = None\n",
        "\n",
        "  # Bucket object for loading files\n",
        "  gcs_bucket = None\n",
        "\n",
        "  # pd.DataFrame for the loaded metadata_csv\n",
        "  cases_df = None\n",
        "\n",
        "  # pd.DataFrame for the loaded labels_csv\n",
        "  cases_and_labels_df = None\n",
        "\n",
        "print(f'GCS bucket name: {Globals.gcs_bucket_name}')\n",
        "print(f'cases_csv: {Globals.cases_csv}')\n",
        "print(f'labels_csv: {Globals.labels_csv}')\n",
        "print(f'images dir: {Globals.gcs_images_dir}')\n"
      ]
    },
    {
      "cell_type": "markdown",
      "source": [
        "## Load dataset"
      ],
      "metadata": {
        "id": "pafH9XkH0xav"
      }
    },
    {
      "cell_type": "code",
      "execution_count": null,
      "metadata": {
        "id": "V-f7ak5zCuXr",
        "colab": {
          "base_uri": "https://localhost:8080/"
        },
        "outputId": "19b6a949-25a1-4b02-81f3-ae8915a13c32"
      },
      "outputs": [
        {
          "output_type": "stream",
          "name": "stdout",
          "text": [
            "5033\n"
          ]
        }
      ],
      "source": [
        "#@title Create a dataframe that contains the metadata and condition labels\n",
        "\n",
        "from google.cloud import storage\n",
        "\n",
        "def list_blobs(storage_client, bucket_name):\n",
        "  \"\"\"Helper to list blobs in a bucket (useful for debugging).\"\"\"\n",
        "  blobs = storage_client.list_blobs(bucket_name)\n",
        "  for blob in blobs:\n",
        "    print(blob)\n",
        "\n",
        "def initialize_df_with_metadata(bucket, csv_path):\n",
        "  \"\"\"Loads the given CSV into a pd.DataFrame.\"\"\"\n",
        "  df = pd.read_csv(io.BytesIO(bucket.blob(csv_path).download_as_string()), dtype={'case_id': str})\n",
        "  df['case_id'] = df['case_id'].astype(str)\n",
        "  return df\n",
        "\n",
        "def augment_metadata_with_labels(df, bucket, csv_path):\n",
        "  \"\"\"Loads the given CSV into a pd.DataFrame.\"\"\"\n",
        "  labels_df = pd.read_csv(io.BytesIO(bucket.blob(csv_path).download_as_string()), dtype={'case_id': str})\n",
        "  labels_df['case_id'] = labels_df['case_id'].astype(str)\n",
        "  merged_df = pd.merge(df, labels_df, on='case_id')\n",
        "  return merged_df\n",
        "\n",
        "Globals.gcs_storage_client = storage.Client(Globals.gcp_project)\n",
        "Globals.gcs_bucket = Globals.gcs_storage_client.bucket(\n",
        "    Globals.gcs_bucket_name\n",
        ")\n",
        "Globals.cases_df = initialize_df_with_metadata(Globals.gcs_bucket, Globals.cases_csv)\n",
        "Globals.cases_and_labels_df = augment_metadata_with_labels(Globals.cases_df, Globals.gcs_bucket, Globals.labels_csv)\n",
        "print(len(Globals.cases_and_labels_df))"
      ]
    },
    {
      "cell_type": "code",
      "source": [
        "Globals.cases_and_labels_df.columns"
      ],
      "metadata": {
        "colab": {
          "base_uri": "https://localhost:8080/"
        },
        "id": "iyR7ZFJvQ2BY",
        "outputId": "3c83bb87-bdf3-4117-81a3-ff11f358acae"
      },
      "execution_count": null,
      "outputs": [
        {
          "output_type": "execute_result",
          "data": {
            "text/plain": [
              "Index(['case_id', 'source', 'release', 'year', 'age_group', 'sex_at_birth',\n",
              "       'fitzpatrick_skin_type',\n",
              "       'race_ethnicity_american_indian_or_alaska_native',\n",
              "       'race_ethnicity_asian', 'race_ethnicity_black_or_african_american',\n",
              "       'race_ethnicity_hispanic_latino_or_spanish_origin',\n",
              "       'race_ethnicity_middle_eastern_or_north_african',\n",
              "       'race_ethnicity_native_hawaiian_or_pacific_islander',\n",
              "       'race_ethnicity_white', 'race_ethnicity_other_race',\n",
              "       'race_ethnicity_prefer_not_to_answer', 'textures_raised_or_bumpy',\n",
              "       'textures_flat', 'textures_rough_or_flaky', 'textures_fluid_filled',\n",
              "       'body_parts_head_or_neck', 'body_parts_arm', 'body_parts_palm',\n",
              "       'body_parts_back_of_hand', 'body_parts_torso_front',\n",
              "       'body_parts_torso_back', 'body_parts_genitalia_or_groin',\n",
              "       'body_parts_buttocks', 'body_parts_leg', 'body_parts_foot_top_or_side',\n",
              "       'body_parts_foot_sole', 'body_parts_other',\n",
              "       'condition_symptoms_bothersome_appearance',\n",
              "       'condition_symptoms_bleeding', 'condition_symptoms_increasing_size',\n",
              "       'condition_symptoms_darkening', 'condition_symptoms_itching',\n",
              "       'condition_symptoms_burning', 'condition_symptoms_pain',\n",
              "       'condition_symptoms_no_relevant_experience', 'other_symptoms_fever',\n",
              "       'other_symptoms_chills', 'other_symptoms_fatigue',\n",
              "       'other_symptoms_joint_pain', 'other_symptoms_mouth_sores',\n",
              "       'other_symptoms_shortness_of_breath',\n",
              "       'other_symptoms_no_relevant_symptoms', 'related_category',\n",
              "       'condition_duration', 'image_1_path', 'image_2_path', 'image_3_path',\n",
              "       'image_1_shot_type', 'image_2_shot_type', 'image_3_shot_type',\n",
              "       'combined_race', 'race_ethnicity_two_or_more_after_mitigation',\n",
              "       'dermatologist_gradable_for_skin_condition_1',\n",
              "       'dermatologist_gradable_for_skin_condition_2',\n",
              "       'dermatologist_gradable_for_skin_condition_3',\n",
              "       'dermatologist_skin_condition_on_label_name',\n",
              "       'dermatologist_skin_condition_confidence',\n",
              "       'weighted_skin_condition_label',\n",
              "       'dermatologist_gradable_for_fitzpatrick_skin_type_1',\n",
              "       'dermatologist_gradable_for_fitzpatrick_skin_type_2',\n",
              "       'dermatologist_gradable_for_fitzpatrick_skin_type_3',\n",
              "       'dermatologist_fitzpatrick_skin_type_label_1',\n",
              "       'dermatologist_fitzpatrick_skin_type_label_2',\n",
              "       'dermatologist_fitzpatrick_skin_type_label_3',\n",
              "       'gradable_for_monk_skin_tone_india', 'gradable_for_monk_skin_tone_us',\n",
              "       'monk_skin_tone_label_india', 'monk_skin_tone_label_us'],\n",
              "      dtype='object')"
            ]
          },
          "metadata": {},
          "execution_count": 164
        }
      ]
    },
    {
      "cell_type": "code",
      "source": [
        "Globals.cases_and_labels_df.sample(1)"
      ],
      "metadata": {
        "colab": {
          "base_uri": "https://localhost:8080/",
          "height": 130
        },
        "id": "FqkyiDhhLLlY",
        "outputId": "7d818657-53d0-49ef-b98f-9c5d5acc7545"
      },
      "execution_count": null,
      "outputs": [
        {
          "output_type": "execute_result",
          "data": {
            "text/plain": [
              "                   case_id source release  year    age_group  \\\n",
              "1264  -5156441036700827606   SCIN   1.0.0  2023  AGE_UNKNOWN   \n",
              "\n",
              "              sex_at_birth fitzpatrick_skin_type  \\\n",
              "1264  OTHER_OR_UNSPECIFIED                   NaN   \n",
              "\n",
              "     race_ethnicity_american_indian_or_alaska_native race_ethnicity_asian  \\\n",
              "1264                                             NaN                  NaN   \n",
              "\n",
              "     race_ethnicity_black_or_african_american  ...  \\\n",
              "1264                                      NaN  ...   \n",
              "\n",
              "     dermatologist_gradable_for_fitzpatrick_skin_type_1  \\\n",
              "1264                                                YES   \n",
              "\n",
              "     dermatologist_gradable_for_fitzpatrick_skin_type_2  \\\n",
              "1264                                                NaN   \n",
              "\n",
              "     dermatologist_gradable_for_fitzpatrick_skin_type_3  \\\n",
              "1264                                                NaN   \n",
              "\n",
              "     dermatologist_fitzpatrick_skin_type_label_1  \\\n",
              "1264                                        FST3   \n",
              "\n",
              "     dermatologist_fitzpatrick_skin_type_label_2  \\\n",
              "1264                                         NaN   \n",
              "\n",
              "     dermatologist_fitzpatrick_skin_type_label_3  \\\n",
              "1264                                         NaN   \n",
              "\n",
              "     gradable_for_monk_skin_tone_india gradable_for_monk_skin_tone_us  \\\n",
              "1264                              True                           True   \n",
              "\n",
              "     monk_skin_tone_label_india monk_skin_tone_label_us  \n",
              "1264                        3.0                     4.0  \n",
              "\n",
              "[1 rows x 73 columns]"
            ],
            "text/html": [
              "\n",
              "  <div id=\"df-dd120c2b-8b01-4c34-a593-58283c85ac12\" class=\"colab-df-container\">\n",
              "    <div>\n",
              "<style scoped>\n",
              "    .dataframe tbody tr th:only-of-type {\n",
              "        vertical-align: middle;\n",
              "    }\n",
              "\n",
              "    .dataframe tbody tr th {\n",
              "        vertical-align: top;\n",
              "    }\n",
              "\n",
              "    .dataframe thead th {\n",
              "        text-align: right;\n",
              "    }\n",
              "</style>\n",
              "<table border=\"1\" class=\"dataframe\">\n",
              "  <thead>\n",
              "    <tr style=\"text-align: right;\">\n",
              "      <th></th>\n",
              "      <th>case_id</th>\n",
              "      <th>source</th>\n",
              "      <th>release</th>\n",
              "      <th>year</th>\n",
              "      <th>age_group</th>\n",
              "      <th>sex_at_birth</th>\n",
              "      <th>fitzpatrick_skin_type</th>\n",
              "      <th>race_ethnicity_american_indian_or_alaska_native</th>\n",
              "      <th>race_ethnicity_asian</th>\n",
              "      <th>race_ethnicity_black_or_african_american</th>\n",
              "      <th>...</th>\n",
              "      <th>dermatologist_gradable_for_fitzpatrick_skin_type_1</th>\n",
              "      <th>dermatologist_gradable_for_fitzpatrick_skin_type_2</th>\n",
              "      <th>dermatologist_gradable_for_fitzpatrick_skin_type_3</th>\n",
              "      <th>dermatologist_fitzpatrick_skin_type_label_1</th>\n",
              "      <th>dermatologist_fitzpatrick_skin_type_label_2</th>\n",
              "      <th>dermatologist_fitzpatrick_skin_type_label_3</th>\n",
              "      <th>gradable_for_monk_skin_tone_india</th>\n",
              "      <th>gradable_for_monk_skin_tone_us</th>\n",
              "      <th>monk_skin_tone_label_india</th>\n",
              "      <th>monk_skin_tone_label_us</th>\n",
              "    </tr>\n",
              "  </thead>\n",
              "  <tbody>\n",
              "    <tr>\n",
              "      <th>1264</th>\n",
              "      <td>-5156441036700827606</td>\n",
              "      <td>SCIN</td>\n",
              "      <td>1.0.0</td>\n",
              "      <td>2023</td>\n",
              "      <td>AGE_UNKNOWN</td>\n",
              "      <td>OTHER_OR_UNSPECIFIED</td>\n",
              "      <td>NaN</td>\n",
              "      <td>NaN</td>\n",
              "      <td>NaN</td>\n",
              "      <td>NaN</td>\n",
              "      <td>...</td>\n",
              "      <td>YES</td>\n",
              "      <td>NaN</td>\n",
              "      <td>NaN</td>\n",
              "      <td>FST3</td>\n",
              "      <td>NaN</td>\n",
              "      <td>NaN</td>\n",
              "      <td>True</td>\n",
              "      <td>True</td>\n",
              "      <td>3.0</td>\n",
              "      <td>4.0</td>\n",
              "    </tr>\n",
              "  </tbody>\n",
              "</table>\n",
              "<p>1 rows × 73 columns</p>\n",
              "</div>\n",
              "    <div class=\"colab-df-buttons\">\n",
              "\n",
              "  <div class=\"colab-df-container\">\n",
              "    <button class=\"colab-df-convert\" onclick=\"convertToInteractive('df-dd120c2b-8b01-4c34-a593-58283c85ac12')\"\n",
              "            title=\"Convert this dataframe to an interactive table.\"\n",
              "            style=\"display:none;\">\n",
              "\n",
              "  <svg xmlns=\"http://www.w3.org/2000/svg\" height=\"24px\" viewBox=\"0 -960 960 960\">\n",
              "    <path d=\"M120-120v-720h720v720H120Zm60-500h600v-160H180v160Zm220 220h160v-160H400v160Zm0 220h160v-160H400v160ZM180-400h160v-160H180v160Zm440 0h160v-160H620v160ZM180-180h160v-160H180v160Zm440 0h160v-160H620v160Z\"/>\n",
              "  </svg>\n",
              "    </button>\n",
              "\n",
              "  <style>\n",
              "    .colab-df-container {\n",
              "      display:flex;\n",
              "      gap: 12px;\n",
              "    }\n",
              "\n",
              "    .colab-df-convert {\n",
              "      background-color: #E8F0FE;\n",
              "      border: none;\n",
              "      border-radius: 50%;\n",
              "      cursor: pointer;\n",
              "      display: none;\n",
              "      fill: #1967D2;\n",
              "      height: 32px;\n",
              "      padding: 0 0 0 0;\n",
              "      width: 32px;\n",
              "    }\n",
              "\n",
              "    .colab-df-convert:hover {\n",
              "      background-color: #E2EBFA;\n",
              "      box-shadow: 0px 1px 2px rgba(60, 64, 67, 0.3), 0px 1px 3px 1px rgba(60, 64, 67, 0.15);\n",
              "      fill: #174EA6;\n",
              "    }\n",
              "\n",
              "    .colab-df-buttons div {\n",
              "      margin-bottom: 4px;\n",
              "    }\n",
              "\n",
              "    [theme=dark] .colab-df-convert {\n",
              "      background-color: #3B4455;\n",
              "      fill: #D2E3FC;\n",
              "    }\n",
              "\n",
              "    [theme=dark] .colab-df-convert:hover {\n",
              "      background-color: #434B5C;\n",
              "      box-shadow: 0px 1px 3px 1px rgba(0, 0, 0, 0.15);\n",
              "      filter: drop-shadow(0px 1px 2px rgba(0, 0, 0, 0.3));\n",
              "      fill: #FFFFFF;\n",
              "    }\n",
              "  </style>\n",
              "\n",
              "    <script>\n",
              "      const buttonEl =\n",
              "        document.querySelector('#df-dd120c2b-8b01-4c34-a593-58283c85ac12 button.colab-df-convert');\n",
              "      buttonEl.style.display =\n",
              "        google.colab.kernel.accessAllowed ? 'block' : 'none';\n",
              "\n",
              "      async function convertToInteractive(key) {\n",
              "        const element = document.querySelector('#df-dd120c2b-8b01-4c34-a593-58283c85ac12');\n",
              "        const dataTable =\n",
              "          await google.colab.kernel.invokeFunction('convertToInteractive',\n",
              "                                                    [key], {});\n",
              "        if (!dataTable) return;\n",
              "\n",
              "        const docLinkHtml = 'Like what you see? Visit the ' +\n",
              "          '<a target=\"_blank\" href=https://colab.research.google.com/notebooks/data_table.ipynb>data table notebook</a>'\n",
              "          + ' to learn more about interactive tables.';\n",
              "        element.innerHTML = '';\n",
              "        dataTable['output_type'] = 'display_data';\n",
              "        await google.colab.output.renderOutput(dataTable, element);\n",
              "        const docLink = document.createElement('div');\n",
              "        docLink.innerHTML = docLinkHtml;\n",
              "        element.appendChild(docLink);\n",
              "      }\n",
              "    </script>\n",
              "  </div>\n",
              "\n",
              "\n",
              "    </div>\n",
              "  </div>\n"
            ],
            "application/vnd.google.colaboratory.intrinsic+json": {
              "type": "dataframe"
            }
          },
          "metadata": {},
          "execution_count": 165
        }
      ]
    },
    {
      "cell_type": "markdown",
      "source": [
        "## Get familiar with the data"
      ],
      "metadata": {
        "id": "F3nCxneZMIrv"
      }
    },
    {
      "cell_type": "code",
      "execution_count": null,
      "metadata": {
        "id": "F6cmJGtjMf0o"
      },
      "outputs": [],
      "source": [
        "#@title Display the images for a case (and condition labels, optionally)\n",
        "import random\n",
        "\n",
        "import io\n",
        "import numpy as np\n",
        "from PIL import Image\n",
        "import matplotlib.pyplot as plt\n",
        "\n",
        "def display_image(bucket, image_path):\n",
        "  image = Image.open(io.BytesIO(bucket.blob(image_path).download_as_string()))\n",
        "  figure_size=4\n",
        "  f, axarr = plt.subplots(1, 1, figsize = (figure_size, figure_size))\n",
        "  axarr.imshow(image, cmap='gray')\n",
        "  axarr.axis('off')\n",
        "  plt.show()\n",
        "\n",
        "def display_images_for_case(df, case_id=\"\", print_condition_labels=True):\n",
        "  # Use a random case if none is provided:\n",
        "  if case_id:\n",
        "    matched_df = df[df['case_id'] == case_id]\n",
        "  else:\n",
        "    matched_df = df.sample(1)\n",
        "\n",
        "  image_paths = matched_df[Globals.image_path_columns].values.tolist()[0]\n",
        "  for path in image_paths:\n",
        "    if isinstance(path, str):\n",
        "      display_image(Globals.gcs_bucket, path)\n",
        "  if print_condition_labels:\n",
        "    condition_labels = matched_df[[Globals.weighted_skin_condition_label]].values.tolist()[0]\n",
        "    for label in condition_labels:\n",
        "      if isinstance(label, str):\n",
        "        print(label)\n",
        "\n",
        "# display_images_for_case(Globals.cases_and_labels_df, \"-1000600354148496558\")\n",
        "display_images_for_case(Globals.cases_and_labels_df)\n"
      ]
    },
    {
      "cell_type": "code",
      "execution_count": null,
      "metadata": {
        "id": "99H4e7abMar4",
        "colab": {
          "base_uri": "https://localhost:8080/"
        },
        "outputId": "b0c2fc9a-6b65-42c7-c8b9-445b97fe2edf"
      },
      "outputs": [
        {
          "output_type": "stream",
          "name": "stdout",
          "text": [
            "Num cases: 5033\n",
            "Num cases with image_1_path set: 5033\n",
            "Num cases with image_2_path set: 3085\n",
            "Num cases with image_3_path set: 2289\n",
            "Total images: 10407\n",
            "\n",
            "Self-reported Sex at Birth:\n",
            "  FEMALE 1666 (33.1%)\n",
            "  MALE 807 (16.0%)\n",
            "  OTHER_OR_UNSPECIFIED 2559 (50.9%)\n",
            "\n",
            "Self-reported Fitzpatrick Skin Type:\n",
            "  FST1 188 (7.5%)\n",
            "  FST2 542 (21.7%)\n",
            "  FST3 661 (26.4%)\n",
            "  FST4 427 (17.1%)\n",
            "  FST5 214 (8.5%)\n",
            "  FST6 143 (5.7%)\n",
            "  NONE_IDENTIFIED 328 (13.1%)\n"
          ]
        }
      ],
      "source": [
        "#@title Print metadata stats\n",
        "def print_metadata_stats(df: pd.DataFrame) -> None:\n",
        "  print(f'Num cases: {len(df)}')\n",
        "\n",
        "  # Number of cases with 1, 2, or 3 images\n",
        "  image_1_cnt = df[\"image_1_path\"].count()\n",
        "  image_2_cnt = df[\"image_2_path\"].count()\n",
        "  image_3_cnt = df[\"image_3_path\"].count()\n",
        "  print(f'Num cases with image_1_path set: {image_1_cnt}')\n",
        "  print(f'Num cases with image_2_path set: {image_2_cnt}')\n",
        "  print(f'Num cases with image_3_path set: {image_3_cnt}')\n",
        "  print(f'Total images: {image_1_cnt + image_2_cnt + image_3_cnt}')\n",
        "\n",
        "  # Sex at birth:\n",
        "  print('\\nSelf-reported Sex at Birth:')\n",
        "  sab = collections.Counter(df['sex_at_birth'].dropna())\n",
        "  total = sum(sab.values())\n",
        "  for k in sorted(sab):\n",
        "    print(f'  {k} {sab[k]} ({100.0*sab[k]/total:.1f}%)')\n",
        "\n",
        "  # FST distribution:\n",
        "  print('\\nSelf-reported Fitzpatrick Skin Type:')\n",
        "  fst = collections.Counter(df['fitzpatrick_skin_type'].dropna())\n",
        "  total = sum(fst.values())\n",
        "  for k in sorted(fst):\n",
        "    print(f'  {k} {fst[k]} ({100.0*fst[k]/total:.1f}%)')\n",
        "\n",
        "\n",
        "print_metadata_stats(Globals.cases_and_labels_df)"
      ]
    },
    {
      "cell_type": "code",
      "source": [
        "#@title Add combined_race_ethnicity column\n",
        "\n",
        "def merge_race_ethnicity_columns(row):\n",
        "  combined = []\n",
        "  for col in row.keys():\n",
        "    if col.startswith(\"race_ethnicity_\") and row[col] == 'YES':\n",
        "      combined.append(col[len(\"race_ethnicity_\"):])\n",
        "  return \",\".join(combined)\n",
        "\n",
        "Globals.cases_and_labels_df[\"combined_race_ethnicity\"] = Globals.cases_and_labels_df.apply(merge_race_ethnicity_columns, axis=1)\n",
        "Globals.cases_and_labels_df[[\"case_id\", \"combined_race_ethnicity\"]]"
      ],
      "metadata": {
        "colab": {
          "base_uri": "https://localhost:8080/",
          "height": 424
        },
        "id": "bKB4KtMMRnsK",
        "outputId": "5c5a25d5-a581-4084-9757-7b02be55a02f"
      },
      "execution_count": null,
      "outputs": [
        {
          "output_type": "execute_result",
          "data": {
            "text/plain": [
              "                   case_id            combined_race_ethnicity\n",
              "0     -1000600354148496558                                   \n",
              "1     -1002039107727665188                                   \n",
              "2     -1003358831658393077  hispanic_latino_or_spanish_origin\n",
              "3     -1003826561155964328                                   \n",
              "4     -1003844406100696311                              white\n",
              "...                    ...                                ...\n",
              "5028    973759811984683137       two_or_more_after_mitigation\n",
              "5029    973872028150293734                                   \n",
              "5030    983265958160210646          black_or_african_american\n",
              "5031    995820220956352730       two_or_more_after_mitigation\n",
              "5032    998890198757718998   american_indian_or_alaska_native\n",
              "\n",
              "[5033 rows x 2 columns]"
            ],
            "text/html": [
              "\n",
              "  <div id=\"df-abb60af2-a0f2-4b9e-be9f-76d0ab21b73a\" class=\"colab-df-container\">\n",
              "    <div>\n",
              "<style scoped>\n",
              "    .dataframe tbody tr th:only-of-type {\n",
              "        vertical-align: middle;\n",
              "    }\n",
              "\n",
              "    .dataframe tbody tr th {\n",
              "        vertical-align: top;\n",
              "    }\n",
              "\n",
              "    .dataframe thead th {\n",
              "        text-align: right;\n",
              "    }\n",
              "</style>\n",
              "<table border=\"1\" class=\"dataframe\">\n",
              "  <thead>\n",
              "    <tr style=\"text-align: right;\">\n",
              "      <th></th>\n",
              "      <th>case_id</th>\n",
              "      <th>combined_race_ethnicity</th>\n",
              "    </tr>\n",
              "  </thead>\n",
              "  <tbody>\n",
              "    <tr>\n",
              "      <th>0</th>\n",
              "      <td>-1000600354148496558</td>\n",
              "      <td></td>\n",
              "    </tr>\n",
              "    <tr>\n",
              "      <th>1</th>\n",
              "      <td>-1002039107727665188</td>\n",
              "      <td></td>\n",
              "    </tr>\n",
              "    <tr>\n",
              "      <th>2</th>\n",
              "      <td>-1003358831658393077</td>\n",
              "      <td>hispanic_latino_or_spanish_origin</td>\n",
              "    </tr>\n",
              "    <tr>\n",
              "      <th>3</th>\n",
              "      <td>-1003826561155964328</td>\n",
              "      <td></td>\n",
              "    </tr>\n",
              "    <tr>\n",
              "      <th>4</th>\n",
              "      <td>-1003844406100696311</td>\n",
              "      <td>white</td>\n",
              "    </tr>\n",
              "    <tr>\n",
              "      <th>...</th>\n",
              "      <td>...</td>\n",
              "      <td>...</td>\n",
              "    </tr>\n",
              "    <tr>\n",
              "      <th>5028</th>\n",
              "      <td>973759811984683137</td>\n",
              "      <td>two_or_more_after_mitigation</td>\n",
              "    </tr>\n",
              "    <tr>\n",
              "      <th>5029</th>\n",
              "      <td>973872028150293734</td>\n",
              "      <td></td>\n",
              "    </tr>\n",
              "    <tr>\n",
              "      <th>5030</th>\n",
              "      <td>983265958160210646</td>\n",
              "      <td>black_or_african_american</td>\n",
              "    </tr>\n",
              "    <tr>\n",
              "      <th>5031</th>\n",
              "      <td>995820220956352730</td>\n",
              "      <td>two_or_more_after_mitigation</td>\n",
              "    </tr>\n",
              "    <tr>\n",
              "      <th>5032</th>\n",
              "      <td>998890198757718998</td>\n",
              "      <td>american_indian_or_alaska_native</td>\n",
              "    </tr>\n",
              "  </tbody>\n",
              "</table>\n",
              "<p>5033 rows × 2 columns</p>\n",
              "</div>\n",
              "    <div class=\"colab-df-buttons\">\n",
              "\n",
              "  <div class=\"colab-df-container\">\n",
              "    <button class=\"colab-df-convert\" onclick=\"convertToInteractive('df-abb60af2-a0f2-4b9e-be9f-76d0ab21b73a')\"\n",
              "            title=\"Convert this dataframe to an interactive table.\"\n",
              "            style=\"display:none;\">\n",
              "\n",
              "  <svg xmlns=\"http://www.w3.org/2000/svg\" height=\"24px\" viewBox=\"0 -960 960 960\">\n",
              "    <path d=\"M120-120v-720h720v720H120Zm60-500h600v-160H180v160Zm220 220h160v-160H400v160Zm0 220h160v-160H400v160ZM180-400h160v-160H180v160Zm440 0h160v-160H620v160ZM180-180h160v-160H180v160Zm440 0h160v-160H620v160Z\"/>\n",
              "  </svg>\n",
              "    </button>\n",
              "\n",
              "  <style>\n",
              "    .colab-df-container {\n",
              "      display:flex;\n",
              "      gap: 12px;\n",
              "    }\n",
              "\n",
              "    .colab-df-convert {\n",
              "      background-color: #E8F0FE;\n",
              "      border: none;\n",
              "      border-radius: 50%;\n",
              "      cursor: pointer;\n",
              "      display: none;\n",
              "      fill: #1967D2;\n",
              "      height: 32px;\n",
              "      padding: 0 0 0 0;\n",
              "      width: 32px;\n",
              "    }\n",
              "\n",
              "    .colab-df-convert:hover {\n",
              "      background-color: #E2EBFA;\n",
              "      box-shadow: 0px 1px 2px rgba(60, 64, 67, 0.3), 0px 1px 3px 1px rgba(60, 64, 67, 0.15);\n",
              "      fill: #174EA6;\n",
              "    }\n",
              "\n",
              "    .colab-df-buttons div {\n",
              "      margin-bottom: 4px;\n",
              "    }\n",
              "\n",
              "    [theme=dark] .colab-df-convert {\n",
              "      background-color: #3B4455;\n",
              "      fill: #D2E3FC;\n",
              "    }\n",
              "\n",
              "    [theme=dark] .colab-df-convert:hover {\n",
              "      background-color: #434B5C;\n",
              "      box-shadow: 0px 1px 3px 1px rgba(0, 0, 0, 0.15);\n",
              "      filter: drop-shadow(0px 1px 2px rgba(0, 0, 0, 0.3));\n",
              "      fill: #FFFFFF;\n",
              "    }\n",
              "  </style>\n",
              "\n",
              "    <script>\n",
              "      const buttonEl =\n",
              "        document.querySelector('#df-abb60af2-a0f2-4b9e-be9f-76d0ab21b73a button.colab-df-convert');\n",
              "      buttonEl.style.display =\n",
              "        google.colab.kernel.accessAllowed ? 'block' : 'none';\n",
              "\n",
              "      async function convertToInteractive(key) {\n",
              "        const element = document.querySelector('#df-abb60af2-a0f2-4b9e-be9f-76d0ab21b73a');\n",
              "        const dataTable =\n",
              "          await google.colab.kernel.invokeFunction('convertToInteractive',\n",
              "                                                    [key], {});\n",
              "        if (!dataTable) return;\n",
              "\n",
              "        const docLinkHtml = 'Like what you see? Visit the ' +\n",
              "          '<a target=\"_blank\" href=https://colab.research.google.com/notebooks/data_table.ipynb>data table notebook</a>'\n",
              "          + ' to learn more about interactive tables.';\n",
              "        element.innerHTML = '';\n",
              "        dataTable['output_type'] = 'display_data';\n",
              "        await google.colab.output.renderOutput(dataTable, element);\n",
              "        const docLink = document.createElement('div');\n",
              "        docLink.innerHTML = docLinkHtml;\n",
              "        element.appendChild(docLink);\n",
              "      }\n",
              "    </script>\n",
              "  </div>\n",
              "\n",
              "\n",
              "<div id=\"df-841d7c38-bc5f-44f5-922d-0ebdd4a09cec\">\n",
              "  <button class=\"colab-df-quickchart\" onclick=\"quickchart('df-841d7c38-bc5f-44f5-922d-0ebdd4a09cec')\"\n",
              "            title=\"Suggest charts\"\n",
              "            style=\"display:none;\">\n",
              "\n",
              "<svg xmlns=\"http://www.w3.org/2000/svg\" height=\"24px\"viewBox=\"0 0 24 24\"\n",
              "     width=\"24px\">\n",
              "    <g>\n",
              "        <path d=\"M19 3H5c-1.1 0-2 .9-2 2v14c0 1.1.9 2 2 2h14c1.1 0 2-.9 2-2V5c0-1.1-.9-2-2-2zM9 17H7v-7h2v7zm4 0h-2V7h2v10zm4 0h-2v-4h2v4z\"/>\n",
              "    </g>\n",
              "</svg>\n",
              "  </button>\n",
              "\n",
              "<style>\n",
              "  .colab-df-quickchart {\n",
              "      --bg-color: #E8F0FE;\n",
              "      --fill-color: #1967D2;\n",
              "      --hover-bg-color: #E2EBFA;\n",
              "      --hover-fill-color: #174EA6;\n",
              "      --disabled-fill-color: #AAA;\n",
              "      --disabled-bg-color: #DDD;\n",
              "  }\n",
              "\n",
              "  [theme=dark] .colab-df-quickchart {\n",
              "      --bg-color: #3B4455;\n",
              "      --fill-color: #D2E3FC;\n",
              "      --hover-bg-color: #434B5C;\n",
              "      --hover-fill-color: #FFFFFF;\n",
              "      --disabled-bg-color: #3B4455;\n",
              "      --disabled-fill-color: #666;\n",
              "  }\n",
              "\n",
              "  .colab-df-quickchart {\n",
              "    background-color: var(--bg-color);\n",
              "    border: none;\n",
              "    border-radius: 50%;\n",
              "    cursor: pointer;\n",
              "    display: none;\n",
              "    fill: var(--fill-color);\n",
              "    height: 32px;\n",
              "    padding: 0;\n",
              "    width: 32px;\n",
              "  }\n",
              "\n",
              "  .colab-df-quickchart:hover {\n",
              "    background-color: var(--hover-bg-color);\n",
              "    box-shadow: 0 1px 2px rgba(60, 64, 67, 0.3), 0 1px 3px 1px rgba(60, 64, 67, 0.15);\n",
              "    fill: var(--button-hover-fill-color);\n",
              "  }\n",
              "\n",
              "  .colab-df-quickchart-complete:disabled,\n",
              "  .colab-df-quickchart-complete:disabled:hover {\n",
              "    background-color: var(--disabled-bg-color);\n",
              "    fill: var(--disabled-fill-color);\n",
              "    box-shadow: none;\n",
              "  }\n",
              "\n",
              "  .colab-df-spinner {\n",
              "    border: 2px solid var(--fill-color);\n",
              "    border-color: transparent;\n",
              "    border-bottom-color: var(--fill-color);\n",
              "    animation:\n",
              "      spin 1s steps(1) infinite;\n",
              "  }\n",
              "\n",
              "  @keyframes spin {\n",
              "    0% {\n",
              "      border-color: transparent;\n",
              "      border-bottom-color: var(--fill-color);\n",
              "      border-left-color: var(--fill-color);\n",
              "    }\n",
              "    20% {\n",
              "      border-color: transparent;\n",
              "      border-left-color: var(--fill-color);\n",
              "      border-top-color: var(--fill-color);\n",
              "    }\n",
              "    30% {\n",
              "      border-color: transparent;\n",
              "      border-left-color: var(--fill-color);\n",
              "      border-top-color: var(--fill-color);\n",
              "      border-right-color: var(--fill-color);\n",
              "    }\n",
              "    40% {\n",
              "      border-color: transparent;\n",
              "      border-right-color: var(--fill-color);\n",
              "      border-top-color: var(--fill-color);\n",
              "    }\n",
              "    60% {\n",
              "      border-color: transparent;\n",
              "      border-right-color: var(--fill-color);\n",
              "    }\n",
              "    80% {\n",
              "      border-color: transparent;\n",
              "      border-right-color: var(--fill-color);\n",
              "      border-bottom-color: var(--fill-color);\n",
              "    }\n",
              "    90% {\n",
              "      border-color: transparent;\n",
              "      border-bottom-color: var(--fill-color);\n",
              "    }\n",
              "  }\n",
              "</style>\n",
              "\n",
              "  <script>\n",
              "    async function quickchart(key) {\n",
              "      const quickchartButtonEl =\n",
              "        document.querySelector('#' + key + ' button');\n",
              "      quickchartButtonEl.disabled = true;  // To prevent multiple clicks.\n",
              "      quickchartButtonEl.classList.add('colab-df-spinner');\n",
              "      try {\n",
              "        const charts = await google.colab.kernel.invokeFunction(\n",
              "            'suggestCharts', [key], {});\n",
              "      } catch (error) {\n",
              "        console.error('Error during call to suggestCharts:', error);\n",
              "      }\n",
              "      quickchartButtonEl.classList.remove('colab-df-spinner');\n",
              "      quickchartButtonEl.classList.add('colab-df-quickchart-complete');\n",
              "    }\n",
              "    (() => {\n",
              "      let quickchartButtonEl =\n",
              "        document.querySelector('#df-841d7c38-bc5f-44f5-922d-0ebdd4a09cec button');\n",
              "      quickchartButtonEl.style.display =\n",
              "        google.colab.kernel.accessAllowed ? 'block' : 'none';\n",
              "    })();\n",
              "  </script>\n",
              "</div>\n",
              "\n",
              "    </div>\n",
              "  </div>\n"
            ],
            "application/vnd.google.colaboratory.intrinsic+json": {
              "type": "dataframe",
              "summary": "{\n  \"name\": \"Globals\",\n  \"rows\": 5033,\n  \"fields\": [\n    {\n      \"column\": \"case_id\",\n      \"properties\": {\n        \"dtype\": \"string\",\n        \"num_unique_values\": 5033,\n        \"samples\": [\n          \"-821110872479093372\",\n          \"-6810148049730008082\",\n          \"2968650902364227344\"\n        ],\n        \"semantic_type\": \"\",\n        \"description\": \"\"\n      }\n    },\n    {\n      \"column\": \"combined_race_ethnicity\",\n      \"properties\": {\n        \"dtype\": \"category\",\n        \"num_unique_values\": 16,\n        \"samples\": [\n          \"\",\n          \"hispanic_latino_or_spanish_origin\",\n          \"hispanic_latino_or_spanish_origin,white\"\n        ],\n        \"semantic_type\": \"\",\n        \"description\": \"\"\n      }\n    }\n  ]\n}"
            }
          },
          "metadata": {},
          "execution_count": 168
        }
      ]
    },
    {
      "cell_type": "code",
      "source": [
        "#@title Print race/ethnicity distribution\n",
        "\n",
        "def print_race_ethnicity_dist(df):\n",
        "  c = collections.Counter(df['combined_race_ethnicity'].dropna())\n",
        "  total = sum(c.values())\n",
        "  for k in sorted(c):\n",
        "    if not k:\n",
        "      k = 'unspecified'\n",
        "    print(f'  {k}: {c[k]} ({100.0*c[k]/total:.1f}%)')\n",
        "\n",
        "print_race_ethnicity_dist(Globals.cases_and_labels_df)"
      ],
      "metadata": {
        "colab": {
          "base_uri": "https://localhost:8080/"
        },
        "id": "cSslwh9jR09w",
        "outputId": "eb92f5a1-4ef4-4e78-973a-9475efd37329"
      },
      "execution_count": null,
      "outputs": [
        {
          "output_type": "stream",
          "name": "stdout",
          "text": [
            "  unspecified: 0 (0.0%)\n",
            "  american_indian_or_alaska_native: 48 (1.0%)\n",
            "  american_indian_or_alaska_native,white: 25 (0.5%)\n",
            "  asian: 85 (1.7%)\n",
            "  asian,white: 11 (0.2%)\n",
            "  black_or_african_american: 267 (5.3%)\n",
            "  black_or_african_american,hispanic_latino_or_spanish_origin: 11 (0.2%)\n",
            "  black_or_african_american,white: 20 (0.4%)\n",
            "  hispanic_latino_or_spanish_origin: 224 (4.5%)\n",
            "  hispanic_latino_or_spanish_origin,white: 55 (1.1%)\n",
            "  middle_eastern_or_north_african: 7 (0.1%)\n",
            "  native_hawaiian_or_pacific_islander: 4 (0.1%)\n",
            "  other_race: 16 (0.3%)\n",
            "  prefer_not_to_answer: 34 (0.7%)\n",
            "  two_or_more_after_mitigation: 83 (1.6%)\n",
            "  white: 1762 (35.0%)\n"
          ]
        }
      ]
    },
    {
      "cell_type": "markdown",
      "source": [
        "## Skin Condition label information"
      ],
      "metadata": {
        "id": "h9XQRnc4MEOz"
      }
    },
    {
      "cell_type": "code",
      "source": [
        "#@title Print condition distribution\n",
        "\n",
        "def print_condition_distribution(df, top_n_conditions=50):\n",
        "  # Any condition that shows up in a label\n",
        "  condition_ctr = collections.Counter()\n",
        "  print(f'Distribution of conditions in \"{Globals.skin_condition_label}\" column:')\n",
        "  for entry in df[Globals.skin_condition_label].dropna():\n",
        "    condition_ctr.update(eval(entry))\n",
        "  for condition, cnt in condition_ctr.most_common()[:top_n_conditions]:\n",
        "    print(f'  {condition}: {cnt}')\n",
        "  print(f'Distribution of conditions in \"{Globals.weighted_skin_condition_label}\" column:')\n",
        "  weighted_condition_ctr = collections.Counter()\n",
        "  for entry in df[Globals.weighted_skin_condition_label].dropna():\n",
        "    weighted_condition_ctr.update(eval(entry).keys())\n",
        "  for condition, cnt in weighted_condition_ctr.most_common()[:top_n_conditions]:\n",
        "    print(f'  {condition}: {cnt}')\n",
        "\n",
        "print_condition_distribution(Globals.cases_and_labels_df)\n"
      ],
      "metadata": {
        "colab": {
          "base_uri": "https://localhost:8080/"
        },
        "id": "3wVGShW3R7E5",
        "outputId": "ff20b6f1-8c0a-4d3d-ab25-75ff01f9503e"
      },
      "execution_count": null,
      "outputs": [
        {
          "output_type": "stream",
          "name": "stdout",
          "text": [
            "Distribution of conditions in \"dermatologist_skin_condition_on_label_name\" column:\n",
            "  Eczema: 1211\n",
            "  Allergic Contact Dermatitis: 952\n",
            "  Insect Bite: 449\n",
            "  Urticaria: 377\n",
            "  Psoriasis: 348\n",
            "  Folliculitis: 297\n",
            "  Irritant Contact Dermatitis: 254\n",
            "  Tinea: 232\n",
            "  Herpes Zoster: 157\n",
            "  Drug Rash: 156\n",
            "  Herpes Simplex: 152\n",
            "  Impetigo: 124\n",
            "  Acute dermatitis, NOS: 124\n",
            "  Hypersensitivity: 115\n",
            "  Acne: 109\n",
            "  Pigmented purpuric eruption: 108\n",
            "  Leukocytoclastic Vasculitis: 105\n",
            "  Lichen planus/lichenoid eruption: 94\n",
            "  Pityriasis rosea: 89\n",
            "  Viral Exanthem: 87\n",
            "  Lichen Simplex Chronicus: 85\n",
            "  Stasis Dermatitis: 83\n",
            "  Keratosis pilaris: 72\n",
            "  CD - Contact dermatitis: 70\n",
            "  Scabies: 68\n",
            "  Tinea Versicolor: 68\n",
            "  Granuloma annulare: 65\n",
            "  Molluscum Contagiosum: 64\n",
            "  Rosacea: 57\n",
            "  Abrasion, scrape, or scab: 51\n",
            "  O/E - ecchymoses present: 51\n",
            "  Seborrheic Dermatitis: 50\n",
            "  Acute and chronic dermatitis: 47\n",
            "  Photodermatitis: 45\n",
            "  Cellulitis: 45\n",
            "  Abscess: 43\n",
            "  Verruca vulgaris: 42\n",
            "  SCC/SCCIS: 38\n",
            "  Purpura: 38\n",
            "  Intertrigo: 38\n",
            "  Miliaria: 36\n",
            "  Erythema multiforme: 35\n",
            "  Syphilis: 34\n",
            "  Lichen nitidus: 32\n",
            "  Cutaneous lupus: 32\n",
            "  Inflicted skin lesions: 31\n",
            "  Prurigo nodularis: 30\n",
            "  Perioral Dermatitis: 29\n",
            "  Post-Inflammatory hyperpigmentation: 28\n",
            "  Pityriasis lichenoides: 28\n",
            "Distribution of conditions in \"weighted_skin_condition_label\" column:\n",
            "  Eczema: 1056\n",
            "  Allergic Contact Dermatitis: 873\n",
            "  Insect Bite: 403\n",
            "  Urticaria: 332\n",
            "  Psoriasis: 308\n",
            "  Folliculitis: 268\n",
            "  Irritant Contact Dermatitis: 249\n",
            "  Tinea: 206\n",
            "  Drug Rash: 148\n",
            "  Herpes Zoster: 142\n",
            "  Herpes Simplex: 141\n",
            "  Acute dermatitis, NOS: 124\n",
            "  Impetigo: 121\n",
            "  Hypersensitivity: 113\n",
            "  Leukocytoclastic Vasculitis: 99\n",
            "  Acne: 98\n",
            "  Pigmented purpuric eruption: 98\n",
            "  Lichen planus/lichenoid eruption: 89\n",
            "  Viral Exanthem: 82\n",
            "  Pityriasis rosea: 80\n",
            "  Lichen Simplex Chronicus: 78\n",
            "  Stasis Dermatitis: 70\n",
            "  CD - Contact dermatitis: 70\n",
            "  Scabies: 63\n",
            "  Molluscum Contagiosum: 63\n",
            "  Keratosis pilaris: 61\n",
            "  Granuloma annulare: 59\n",
            "  Tinea Versicolor: 53\n",
            "  Rosacea: 52\n",
            "  O/E - ecchymoses present: 50\n",
            "  Abrasion, scrape, or scab: 48\n",
            "  Acute and chronic dermatitis: 47\n",
            "  Seborrheic Dermatitis: 46\n",
            "  Photodermatitis: 43\n",
            "  Abscess: 41\n",
            "  Verruca vulgaris: 40\n",
            "  Cellulitis: 39\n",
            "  SCC/SCCIS: 37\n",
            "  Purpura: 36\n",
            "  Miliaria: 36\n",
            "  Erythema multiforme: 33\n",
            "  Syphilis: 32\n",
            "  Cutaneous lupus: 31\n",
            "  Intertrigo: 31\n",
            "  Inflicted skin lesions: 29\n",
            "  Post-Inflammatory hyperpigmentation: 28\n",
            "  Pityriasis lichenoides: 28\n",
            "  Prurigo nodularis: 27\n",
            "  Lichen nitidus: 27\n",
            "  Chronic dermatitis, NOS: 27\n"
          ]
        }
      ]
    },
    {
      "cell_type": "code",
      "source": [
        "#@title Print column names\n",
        "print(Globals.cases_and_labels_df.columns)"
      ],
      "metadata": {
        "colab": {
          "base_uri": "https://localhost:8080/"
        },
        "id": "N7H2CAVfiBXu",
        "outputId": "639fe1f0-3e33-4181-894c-19de76ade294"
      },
      "execution_count": null,
      "outputs": [
        {
          "output_type": "stream",
          "name": "stdout",
          "text": [
            "Index(['case_id', 'source', 'release', 'year', 'age_group', 'sex_at_birth',\n",
            "       'fitzpatrick_skin_type',\n",
            "       'race_ethnicity_american_indian_or_alaska_native',\n",
            "       'race_ethnicity_asian', 'race_ethnicity_black_or_african_american',\n",
            "       'race_ethnicity_hispanic_latino_or_spanish_origin',\n",
            "       'race_ethnicity_middle_eastern_or_north_african',\n",
            "       'race_ethnicity_native_hawaiian_or_pacific_islander',\n",
            "       'race_ethnicity_white', 'race_ethnicity_other_race',\n",
            "       'race_ethnicity_prefer_not_to_answer', 'textures_raised_or_bumpy',\n",
            "       'textures_flat', 'textures_rough_or_flaky', 'textures_fluid_filled',\n",
            "       'body_parts_head_or_neck', 'body_parts_arm', 'body_parts_palm',\n",
            "       'body_parts_back_of_hand', 'body_parts_torso_front',\n",
            "       'body_parts_torso_back', 'body_parts_genitalia_or_groin',\n",
            "       'body_parts_buttocks', 'body_parts_leg', 'body_parts_foot_top_or_side',\n",
            "       'body_parts_foot_sole', 'body_parts_other',\n",
            "       'condition_symptoms_bothersome_appearance',\n",
            "       'condition_symptoms_bleeding', 'condition_symptoms_increasing_size',\n",
            "       'condition_symptoms_darkening', 'condition_symptoms_itching',\n",
            "       'condition_symptoms_burning', 'condition_symptoms_pain',\n",
            "       'condition_symptoms_no_relevant_experience', 'other_symptoms_fever',\n",
            "       'other_symptoms_chills', 'other_symptoms_fatigue',\n",
            "       'other_symptoms_joint_pain', 'other_symptoms_mouth_sores',\n",
            "       'other_symptoms_shortness_of_breath',\n",
            "       'other_symptoms_no_relevant_symptoms', 'related_category',\n",
            "       'condition_duration', 'image_1_path', 'image_2_path', 'image_3_path',\n",
            "       'image_1_shot_type', 'image_2_shot_type', 'image_3_shot_type',\n",
            "       'combined_race', 'race_ethnicity_two_or_more_after_mitigation',\n",
            "       'dermatologist_gradable_for_skin_condition_1',\n",
            "       'dermatologist_gradable_for_skin_condition_2',\n",
            "       'dermatologist_gradable_for_skin_condition_3',\n",
            "       'dermatologist_skin_condition_on_label_name',\n",
            "       'dermatologist_skin_condition_confidence',\n",
            "       'weighted_skin_condition_label',\n",
            "       'dermatologist_gradable_for_fitzpatrick_skin_type_1',\n",
            "       'dermatologist_gradable_for_fitzpatrick_skin_type_2',\n",
            "       'dermatologist_gradable_for_fitzpatrick_skin_type_3',\n",
            "       'dermatologist_fitzpatrick_skin_type_label_1',\n",
            "       'dermatologist_fitzpatrick_skin_type_label_2',\n",
            "       'dermatologist_fitzpatrick_skin_type_label_3',\n",
            "       'gradable_for_monk_skin_tone_india', 'gradable_for_monk_skin_tone_us',\n",
            "       'monk_skin_tone_label_india', 'monk_skin_tone_label_us',\n",
            "       'combined_race_ethnicity'],\n",
            "      dtype='object')\n"
          ]
        }
      ]
    },
    {
      "cell_type": "markdown",
      "source": [
        "## Display distributions of self-reported condition info"
      ],
      "metadata": {
        "id": "-tZExLQSKfSK"
      }
    },
    {
      "cell_type": "code",
      "source": [
        "#@title Display body part distribution\n",
        "\n",
        "def get_distribution_columns(df, prefix):\n",
        "  cols = [c for c in df.columns if c.startswith(prefix)]\n",
        "  dist = collections.Counter()\n",
        "  for c in cols:\n",
        "    name = c[len(prefix):]\n",
        "    val = sum(df[c] == \"YES\")\n",
        "    dist[name] = val\n",
        "  return dist\n",
        "\n",
        "def get_distribution_and_display(df, prefix):\n",
        "  ctr = get_distribution_columns(df, prefix)\n",
        "  dist = dict(ctr.most_common())\n",
        "  print(f'Distribution data: {dist}')\n",
        "  names = list(dist.keys())\n",
        "  counts = list(dist.values())\n",
        "  plt.bar(names, counts)\n",
        "  plt.xticks(rotation=90)  # Rotate labels by 90 degrees\n",
        "  plt.show()\n",
        "\n",
        "# Distribution data: {'arm': 1707, 'leg': 1694, 'torso_front': 795, 'head_or_neck': 737, 'torso_back': 652, 'other': 543, 'back_of_hand': 521, 'foot_top_or_side': 415, 'buttocks': 391, 'genitalia_or_groin': 222, 'palm': 215, 'foot_sole': 104}\n",
        "get_distribution_and_display(Globals.cases_and_labels_df, \"body_parts_\")\n"
      ],
      "metadata": {
        "colab": {
          "base_uri": "https://localhost:8080/",
          "height": 577
        },
        "id": "JSp6JNh6KbwF",
        "outputId": "30334f15-d4ac-4fd2-a28d-23fe27b759e6"
      },
      "execution_count": null,
      "outputs": [
        {
          "output_type": "stream",
          "name": "stdout",
          "text": [
            "Distribution data: {'arm': 1707, 'leg': 1694, 'torso_front': 795, 'head_or_neck': 737, 'torso_back': 652, 'other': 543, 'back_of_hand': 521, 'foot_top_or_side': 415, 'buttocks': 391, 'genitalia_or_groin': 222, 'palm': 215, 'foot_sole': 104}\n"
          ]
        },
        {
          "output_type": "display_data",
          "data": {
            "text/plain": [
              "<Figure size 640x480 with 1 Axes>"
            ],
            "image/png": "[encoded data removed]"
          },
          "metadata": {}
        }
      ]
    },
    {
      "cell_type": "code",
      "source": [
        "#@title Display texture distribution\n",
        "get_distribution_and_display(Globals.cases_and_labels_df, \"textures_\")"
      ],
      "metadata": {
        "colab": {
          "base_uri": "https://localhost:8080/",
          "height": 552
        },
        "id": "3dO9FZbvKkfO",
        "outputId": "ed27747b-c5a4-496e-aa39-8a1f4ac6b6b7"
      },
      "execution_count": null,
      "outputs": [
        {
          "output_type": "stream",
          "name": "stdout",
          "text": [
            "Distribution data: {'raised_or_bumpy': 2915, 'rough_or_flaky': 1032, 'flat': 822, 'fluid_filled': 629}\n"
          ]
        },
        {
          "output_type": "display_data",
          "data": {
            "text/plain": [
              "<Figure size 640x480 with 1 Axes>"
            ],
            "image/png": "[encoded data removed]"
          },
          "metadata": {}
        }
      ]
    },
    {
      "cell_type": "code",
      "source": [
        "#@title Display condition symptom dist\n",
        "get_distribution_and_display(Globals.cases_and_labels_df, \"condition_symptoms_\")"
      ],
      "metadata": {
        "colab": {
          "base_uri": "https://localhost:8080/",
          "height": 626
        },
        "id": "U-UFg7SJKnx2",
        "outputId": "a7ae55f0-f7c7-4e19-a857-6050e41efa1f"
      },
      "execution_count": null,
      "outputs": [
        {
          "output_type": "stream",
          "name": "stdout",
          "text": [
            "Distribution data: {'itching': 2712, 'bothersome_appearance': 1530, 'increasing_size': 1013, 'burning': 988, 'pain': 734, 'darkening': 385, 'no_relevant_experience': 308, 'bleeding': 225}\n"
          ]
        },
        {
          "output_type": "display_data",
          "data": {
            "text/plain": [
              "<Figure size 640x480 with 1 Axes>"
            ],
            "image/png": "[encoded data removed]"
          },
          "metadata": {}
        }
      ]
    },
    {
      "cell_type": "code",
      "source": [
        "#@title Display other symptoms distribution\n",
        "get_distribution_and_display(Globals.cases_and_labels_df, \"other_symptoms_\")"
      ],
      "metadata": {
        "colab": {
          "base_uri": "https://localhost:8080/",
          "height": 614
        },
        "id": "4BA3uJDlKqNJ",
        "outputId": "338c7047-4fa3-4034-c434-ea154e1bccd0"
      },
      "execution_count": null,
      "outputs": [
        {
          "output_type": "stream",
          "name": "stdout",
          "text": [
            "Distribution data: {'no_relevant_symptoms': 2841, 'fatigue': 415, 'joint_pain': 300, 'shortness_of_breath': 139, 'chills': 120, 'mouth_sores': 96, 'fever': 90}\n"
          ]
        },
        {
          "output_type": "display_data",
          "data": {
            "text/plain": [
              "<Figure size 640x480 with 1 Axes>"
            ],
            "image/png": "[encoded data removed]"
          },
          "metadata": {}
        }
      ]
    }
  ]
}